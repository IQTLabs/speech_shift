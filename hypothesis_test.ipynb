{
 "metadata": {
  "language_info": {
   "codemirror_mode": {
    "name": "ipython",
    "version": 3
   },
   "file_extension": ".py",
   "mimetype": "text/x-python",
   "name": "python",
   "nbconvert_exporter": "python",
   "pygments_lexer": "ipython3",
   "version": "3.8.5-final"
  },
  "orig_nbformat": 2,
  "kernelspec": {
   "name": "python3",
   "display_name": "Python 3"
  }
 },
 "nbformat": 4,
 "nbformat_minor": 2,
 "cells": [
  {
   "cell_type": "code",
   "execution_count": 8,
   "metadata": {},
   "outputs": [],
   "source": [
    "import os\n",
    "import numpy as np\n",
    "import librosa\n",
    "import pandas as pd\n",
    "import aggregators\n",
    "import embeddors\n",
    "import data_utils"
   ]
  },
  {
   "cell_type": "code",
   "execution_count": null,
   "metadata": {},
   "outputs": [],
   "source": [
    "# Change this component to the root \n",
    "DATASET_ROOT = '/Users/jberkowitz/Datasets/VOiCES_devkit'\n",
    "# Convenience function to add root to data path\n",
    "add_root = lambda x: os.path.join(DATASET_ROOT,x)"
   ]
  },
  {
   "source": [
    "First we will load the dataframe for the `training` slice of VOiCES, and perform a few cleaning operations"
   ],
   "cell_type": "markdown",
   "metadata": {}
  },
  {
   "cell_type": "code",
   "execution_count": 6,
   "metadata": {},
   "outputs": [
    {
     "output_type": "execute_result",
     "data": {
      "text/plain": [
       "   index  chapter  degrees distractor  \\\n",
       "0      0     9960       60       musi   \n",
       "1      1     9960       60       musi   \n",
       "\n",
       "                                            filename gender  mic  \\\n",
       "0  distant-16k/speech/train/rm1/musi/sp0083/Lab41...      F    1   \n",
       "1  distant-16k/speech/train/rm1/musi/sp0083/Lab41...      F    5   \n",
       "\n",
       "                                          query_name room  segment  \\\n",
       "0  Lab41-SRI-VOiCES-rm1-musi-sp0083-ch009960-sg00...  rm1       42   \n",
       "1  Lab41-SRI-VOiCES-rm1-musi-sp0083-ch009960-sg00...  rm1       42   \n",
       "\n",
       "                                              source  speaker  \\\n",
       "0  source-16k/train/sp0083/Lab41-SRI-VOiCES-src-s...       83   \n",
       "1  source-16k/train/sp0083/Lab41-SRI-VOiCES-src-s...       83   \n",
       "\n",
       "                                          transcript  noisy_length  noisy_sr  \\\n",
       "0  the horrible glowing tool disappeared into the...        258880     16000   \n",
       "1  the horrible glowing tool disappeared into the...        258880     16000   \n",
       "\n",
       "   noisy_time  source_length  source_sr  source_time  \n",
       "0       16.18         258880      16000        16.18  \n",
       "1       16.18         258880      16000        16.18  "
      ],
      "text/html": "<div>\n<style scoped>\n    .dataframe tbody tr th:only-of-type {\n        vertical-align: middle;\n    }\n\n    .dataframe tbody tr th {\n        vertical-align: top;\n    }\n\n    .dataframe thead th {\n        text-align: right;\n    }\n</style>\n<table border=\"1\" class=\"dataframe\">\n  <thead>\n    <tr style=\"text-align: right;\">\n      <th></th>\n      <th>index</th>\n      <th>chapter</th>\n      <th>degrees</th>\n      <th>distractor</th>\n      <th>filename</th>\n      <th>gender</th>\n      <th>mic</th>\n      <th>query_name</th>\n      <th>room</th>\n      <th>segment</th>\n      <th>source</th>\n      <th>speaker</th>\n      <th>transcript</th>\n      <th>noisy_length</th>\n      <th>noisy_sr</th>\n      <th>noisy_time</th>\n      <th>source_length</th>\n      <th>source_sr</th>\n      <th>source_time</th>\n    </tr>\n  </thead>\n  <tbody>\n    <tr>\n      <th>0</th>\n      <td>0</td>\n      <td>9960</td>\n      <td>60</td>\n      <td>musi</td>\n      <td>distant-16k/speech/train/rm1/musi/sp0083/Lab41...</td>\n      <td>F</td>\n      <td>1</td>\n      <td>Lab41-SRI-VOiCES-rm1-musi-sp0083-ch009960-sg00...</td>\n      <td>rm1</td>\n      <td>42</td>\n      <td>source-16k/train/sp0083/Lab41-SRI-VOiCES-src-s...</td>\n      <td>83</td>\n      <td>the horrible glowing tool disappeared into the...</td>\n      <td>258880</td>\n      <td>16000</td>\n      <td>16.18</td>\n      <td>258880</td>\n      <td>16000</td>\n      <td>16.18</td>\n    </tr>\n    <tr>\n      <th>1</th>\n      <td>1</td>\n      <td>9960</td>\n      <td>60</td>\n      <td>musi</td>\n      <td>distant-16k/speech/train/rm1/musi/sp0083/Lab41...</td>\n      <td>F</td>\n      <td>5</td>\n      <td>Lab41-SRI-VOiCES-rm1-musi-sp0083-ch009960-sg00...</td>\n      <td>rm1</td>\n      <td>42</td>\n      <td>source-16k/train/sp0083/Lab41-SRI-VOiCES-src-s...</td>\n      <td>83</td>\n      <td>the horrible glowing tool disappeared into the...</td>\n      <td>258880</td>\n      <td>16000</td>\n      <td>16.18</td>\n      <td>258880</td>\n      <td>16000</td>\n      <td>16.18</td>\n    </tr>\n  </tbody>\n</table>\n</div>"
     },
     "metadata": {},
     "execution_count": 6
    }
   ],
   "source": [
    "full_index_df = pd.read_csv(add_root('references/train_index.csv'))\n",
    "# Drop recordings that don't match in length to source audio\n",
    "trimmed_index = full_index_df[full_index_df['noisy_length']==full_index_df['source_length']]\n",
    "trimmed_index.head(2)"
   ]
  },
  {
   "cell_type": "code",
   "execution_count": null,
   "metadata": {},
   "outputs": [],
   "source": []
  }
 ]
}